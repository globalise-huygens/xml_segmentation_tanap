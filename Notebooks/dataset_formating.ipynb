{
 "cells": [
  {
   "cell_type": "code",
   "execution_count": 1,
   "metadata": {},
   "outputs": [],
   "source": [
    "import pandas as pd\n",
    "import numpy as np\n",
    "import matplotlib\n"
   ]
  },
  {
   "cell_type": "code",
   "execution_count": 2,
   "metadata": {},
   "outputs": [],
   "source": [
    "df = pd.read_csv(\"/Users/gavinl/Desktop/XML_segmentation/dataset_with_updated_bounds.csv\")"
   ]
  },
  {
   "cell_type": "code",
   "execution_count": 3,
   "metadata": {},
   "outputs": [
    {
     "data": {
      "text/html": [
       "<div>\n",
       "<style scoped>\n",
       "    .dataframe tbody tr th:only-of-type {\n",
       "        vertical-align: middle;\n",
       "    }\n",
       "\n",
       "    .dataframe tbody tr th {\n",
       "        vertical-align: top;\n",
       "    }\n",
       "\n",
       "    .dataframe thead th {\n",
       "        text-align: right;\n",
       "    }\n",
       "</style>\n",
       "<table border=\"1\" class=\"dataframe\">\n",
       "  <thead>\n",
       "    <tr style=\"text-align: right;\">\n",
       "      <th></th>\n",
       "      <th>Scan File_Name</th>\n",
       "      <th>TANAP Boundaries</th>\n",
       "      <th>TANAP ID</th>\n",
       "      <th>Subdocument boundaries</th>\n",
       "      <th>Type of non-document page</th>\n",
       "      <th>partOfDocument</th>\n",
       "      <th>xml_data</th>\n",
       "    </tr>\n",
       "  </thead>\n",
       "  <tbody>\n",
       "    <tr>\n",
       "      <th>0</th>\n",
       "      <td>nl-hana_1.04.02_1120_0001.xml</td>\n",
       "      <td>NONE</td>\n",
       "      <td>NaN</td>\n",
       "      <td>NaN</td>\n",
       "      <td>Cover</td>\n",
       "      <td>False</td>\n",
       "      <td>&lt;?xml version='1.0' encoding='UTF-8'?&gt;\\n&lt;PcGts...</td>\n",
       "    </tr>\n",
       "    <tr>\n",
       "      <th>1</th>\n",
       "      <td>nl-hana_1.04.02_1120_0002.xml</td>\n",
       "      <td>NONE</td>\n",
       "      <td>NaN</td>\n",
       "      <td>NaN</td>\n",
       "      <td>Empty</td>\n",
       "      <td>False</td>\n",
       "      <td>&lt;?xml version='1.0' encoding='UTF-8'?&gt;\\n&lt;PcGts...</td>\n",
       "    </tr>\n",
       "    <tr>\n",
       "      <th>2</th>\n",
       "      <td>nl-hana_1.04.02_1120_0003.xml</td>\n",
       "      <td>NONE</td>\n",
       "      <td>NaN</td>\n",
       "      <td>NaN</td>\n",
       "      <td>Empty</td>\n",
       "      <td>False</td>\n",
       "      <td>&lt;?xml version='1.0' encoding='UTF-8'?&gt;\\n&lt;PcGts...</td>\n",
       "    </tr>\n",
       "    <tr>\n",
       "      <th>3</th>\n",
       "      <td>nl-hana_1.04.02_1120_0004.xml</td>\n",
       "      <td>NONE</td>\n",
       "      <td>NaN</td>\n",
       "      <td>NaN</td>\n",
       "      <td>Empty</td>\n",
       "      <td>False</td>\n",
       "      <td>&lt;?xml version='1.0' encoding='UTF-8'?&gt;\\n&lt;PcGts...</td>\n",
       "    </tr>\n",
       "    <tr>\n",
       "      <th>4</th>\n",
       "      <td>nl-hana_1.04.02_1120_0005.xml</td>\n",
       "      <td>NONE</td>\n",
       "      <td>NaN</td>\n",
       "      <td>NaN</td>\n",
       "      <td>Empty</td>\n",
       "      <td>False</td>\n",
       "      <td>&lt;?xml version='1.0' encoding='UTF-8'?&gt;\\n&lt;PcGts...</td>\n",
       "    </tr>\n",
       "  </tbody>\n",
       "</table>\n",
       "</div>"
      ],
      "text/plain": [
       "                  Scan File_Name TANAP Boundaries  TANAP ID  \\\n",
       "0  nl-hana_1.04.02_1120_0001.xml             NONE       NaN   \n",
       "1  nl-hana_1.04.02_1120_0002.xml             NONE       NaN   \n",
       "2  nl-hana_1.04.02_1120_0003.xml             NONE       NaN   \n",
       "3  nl-hana_1.04.02_1120_0004.xml             NONE       NaN   \n",
       "4  nl-hana_1.04.02_1120_0005.xml             NONE       NaN   \n",
       "\n",
       "  Subdocument boundaries Type of non-document page  partOfDocument  \\\n",
       "0                    NaN                     Cover           False   \n",
       "1                    NaN                     Empty           False   \n",
       "2                    NaN                     Empty           False   \n",
       "3                    NaN                     Empty           False   \n",
       "4                    NaN                     Empty           False   \n",
       "\n",
       "                                            xml_data  \n",
       "0  <?xml version='1.0' encoding='UTF-8'?>\\n<PcGts...  \n",
       "1  <?xml version='1.0' encoding='UTF-8'?>\\n<PcGts...  \n",
       "2  <?xml version='1.0' encoding='UTF-8'?>\\n<PcGts...  \n",
       "3  <?xml version='1.0' encoding='UTF-8'?>\\n<PcGts...  \n",
       "4  <?xml version='1.0' encoding='UTF-8'?>\\n<PcGts...  "
      ]
     },
     "execution_count": 3,
     "metadata": {},
     "output_type": "execute_result"
    }
   ],
   "source": [
    "df.head()"
   ]
  },
  {
   "cell_type": "code",
   "execution_count": 10,
   "metadata": {},
   "outputs": [],
   "source": [
    "df = df.drop(['Scan File_Name','TANAP ID','Subdocument boundaries','Type of non-document page','partOfDocument'],axis=1)"
   ]
  },
  {
   "cell_type": "code",
   "execution_count": 11,
   "metadata": {},
   "outputs": [
    {
     "data": {
      "text/html": [
       "<div>\n",
       "<style scoped>\n",
       "    .dataframe tbody tr th:only-of-type {\n",
       "        vertical-align: middle;\n",
       "    }\n",
       "\n",
       "    .dataframe tbody tr th {\n",
       "        vertical-align: top;\n",
       "    }\n",
       "\n",
       "    .dataframe thead th {\n",
       "        text-align: right;\n",
       "    }\n",
       "</style>\n",
       "<table border=\"1\" class=\"dataframe\">\n",
       "  <thead>\n",
       "    <tr style=\"text-align: right;\">\n",
       "      <th></th>\n",
       "      <th>TANAP Boundaries</th>\n",
       "      <th>xml_data</th>\n",
       "    </tr>\n",
       "  </thead>\n",
       "  <tbody>\n",
       "    <tr>\n",
       "      <th>0</th>\n",
       "      <td>NONE</td>\n",
       "      <td>&lt;?xml version='1.0' encoding='UTF-8'?&gt;\\n&lt;PcGts...</td>\n",
       "    </tr>\n",
       "    <tr>\n",
       "      <th>1</th>\n",
       "      <td>NONE</td>\n",
       "      <td>&lt;?xml version='1.0' encoding='UTF-8'?&gt;\\n&lt;PcGts...</td>\n",
       "    </tr>\n",
       "    <tr>\n",
       "      <th>2</th>\n",
       "      <td>NONE</td>\n",
       "      <td>&lt;?xml version='1.0' encoding='UTF-8'?&gt;\\n&lt;PcGts...</td>\n",
       "    </tr>\n",
       "    <tr>\n",
       "      <th>3</th>\n",
       "      <td>NONE</td>\n",
       "      <td>&lt;?xml version='1.0' encoding='UTF-8'?&gt;\\n&lt;PcGts...</td>\n",
       "    </tr>\n",
       "    <tr>\n",
       "      <th>4</th>\n",
       "      <td>NONE</td>\n",
       "      <td>&lt;?xml version='1.0' encoding='UTF-8'?&gt;\\n&lt;PcGts...</td>\n",
       "    </tr>\n",
       "  </tbody>\n",
       "</table>\n",
       "</div>"
      ],
      "text/plain": [
       "  TANAP Boundaries                                           xml_data\n",
       "0             NONE  <?xml version='1.0' encoding='UTF-8'?>\\n<PcGts...\n",
       "1             NONE  <?xml version='1.0' encoding='UTF-8'?>\\n<PcGts...\n",
       "2             NONE  <?xml version='1.0' encoding='UTF-8'?>\\n<PcGts...\n",
       "3             NONE  <?xml version='1.0' encoding='UTF-8'?>\\n<PcGts...\n",
       "4             NONE  <?xml version='1.0' encoding='UTF-8'?>\\n<PcGts..."
      ]
     },
     "execution_count": 11,
     "metadata": {},
     "output_type": "execute_result"
    }
   ],
   "source": [
    "df.head()"
   ]
  },
  {
   "cell_type": "code",
   "execution_count": 12,
   "metadata": {},
   "outputs": [],
   "source": [
    "instruction_prompt = \"\"\"Based on the XML data provided, determine if this page is the beginning (START), middle (MIDDLE), or end (END) of a document, or if it does not belong to any document (NONE).\n",
    "\n",
    "Instructions:\n",
    "1. Examine Structural Elements: Analyze the XML for key elements such as headers, catch-words, page-numbers, paragraphs, marginalia, and signature-marks. Use the coordinates and layout information to identify these regions on the page.\n",
    "2. Indicators for START Pages: Look for elements that typically mark the beginning of a document. A prominent header or a distinct catch-word at the top of the page, along with clear titles or introductory paragraphs, suggests a START page.\n",
    "3. Indicators for MIDDLE Pages: If the page contains continuous text (paragraphs) and regular page-numbers without distinctive start or finish markers, it is likely a MIDDLE page.\n",
    "4. Indicators for END Pages: Identify features that suggest a document is concluding, such as a signature-mark, final page-number, or concluding remarks near the bottom or edge of the page. These elements indicate an END page.\n",
    "5. When to Classify as NONE: If the XML lacks sufficient structural cues (e.g., headers, catch-words, or signature-marks) that link the page to any part of a document, classify it as NONE.\n",
    "\n",
    "Use this detailed analysis of the XML’s region types and spatial layout to determine the most appropriate classification for each page scan.\"\"\""
   ]
  },
  {
   "cell_type": "code",
   "execution_count": 13,
   "metadata": {},
   "outputs": [],
   "source": [
    "df['instruction'] = instruction_prompt"
   ]
  },
  {
   "cell_type": "code",
   "execution_count": 14,
   "metadata": {},
   "outputs": [
    {
     "data": {
      "text/html": [
       "<div>\n",
       "<style scoped>\n",
       "    .dataframe tbody tr th:only-of-type {\n",
       "        vertical-align: middle;\n",
       "    }\n",
       "\n",
       "    .dataframe tbody tr th {\n",
       "        vertical-align: top;\n",
       "    }\n",
       "\n",
       "    .dataframe thead th {\n",
       "        text-align: right;\n",
       "    }\n",
       "</style>\n",
       "<table border=\"1\" class=\"dataframe\">\n",
       "  <thead>\n",
       "    <tr style=\"text-align: right;\">\n",
       "      <th></th>\n",
       "      <th>TANAP Boundaries</th>\n",
       "      <th>xml_data</th>\n",
       "      <th>instruction</th>\n",
       "    </tr>\n",
       "  </thead>\n",
       "  <tbody>\n",
       "    <tr>\n",
       "      <th>0</th>\n",
       "      <td>NONE</td>\n",
       "      <td>&lt;?xml version='1.0' encoding='UTF-8'?&gt;\\n&lt;PcGts...</td>\n",
       "      <td>Based on the XML data provided, determine if t...</td>\n",
       "    </tr>\n",
       "    <tr>\n",
       "      <th>1</th>\n",
       "      <td>NONE</td>\n",
       "      <td>&lt;?xml version='1.0' encoding='UTF-8'?&gt;\\n&lt;PcGts...</td>\n",
       "      <td>Based on the XML data provided, determine if t...</td>\n",
       "    </tr>\n",
       "    <tr>\n",
       "      <th>2</th>\n",
       "      <td>NONE</td>\n",
       "      <td>&lt;?xml version='1.0' encoding='UTF-8'?&gt;\\n&lt;PcGts...</td>\n",
       "      <td>Based on the XML data provided, determine if t...</td>\n",
       "    </tr>\n",
       "    <tr>\n",
       "      <th>3</th>\n",
       "      <td>NONE</td>\n",
       "      <td>&lt;?xml version='1.0' encoding='UTF-8'?&gt;\\n&lt;PcGts...</td>\n",
       "      <td>Based on the XML data provided, determine if t...</td>\n",
       "    </tr>\n",
       "    <tr>\n",
       "      <th>4</th>\n",
       "      <td>NONE</td>\n",
       "      <td>&lt;?xml version='1.0' encoding='UTF-8'?&gt;\\n&lt;PcGts...</td>\n",
       "      <td>Based on the XML data provided, determine if t...</td>\n",
       "    </tr>\n",
       "  </tbody>\n",
       "</table>\n",
       "</div>"
      ],
      "text/plain": [
       "  TANAP Boundaries                                           xml_data  \\\n",
       "0             NONE  <?xml version='1.0' encoding='UTF-8'?>\\n<PcGts...   \n",
       "1             NONE  <?xml version='1.0' encoding='UTF-8'?>\\n<PcGts...   \n",
       "2             NONE  <?xml version='1.0' encoding='UTF-8'?>\\n<PcGts...   \n",
       "3             NONE  <?xml version='1.0' encoding='UTF-8'?>\\n<PcGts...   \n",
       "4             NONE  <?xml version='1.0' encoding='UTF-8'?>\\n<PcGts...   \n",
       "\n",
       "                                         instruction  \n",
       "0  Based on the XML data provided, determine if t...  \n",
       "1  Based on the XML data provided, determine if t...  \n",
       "2  Based on the XML data provided, determine if t...  \n",
       "3  Based on the XML data provided, determine if t...  \n",
       "4  Based on the XML data provided, determine if t...  "
      ]
     },
     "execution_count": 14,
     "metadata": {},
     "output_type": "execute_result"
    }
   ],
   "source": [
    "df.head()"
   ]
  },
  {
   "cell_type": "code",
   "execution_count": 17,
   "metadata": {},
   "outputs": [],
   "source": [
    "df = df.rename(columns={\"TANAP Boundaries\":\"output\", \"xml_data\":\"input\"})"
   ]
  },
  {
   "cell_type": "code",
   "execution_count": 18,
   "metadata": {},
   "outputs": [
    {
     "data": {
      "text/html": [
       "<div>\n",
       "<style scoped>\n",
       "    .dataframe tbody tr th:only-of-type {\n",
       "        vertical-align: middle;\n",
       "    }\n",
       "\n",
       "    .dataframe tbody tr th {\n",
       "        vertical-align: top;\n",
       "    }\n",
       "\n",
       "    .dataframe thead th {\n",
       "        text-align: right;\n",
       "    }\n",
       "</style>\n",
       "<table border=\"1\" class=\"dataframe\">\n",
       "  <thead>\n",
       "    <tr style=\"text-align: right;\">\n",
       "      <th></th>\n",
       "      <th>output</th>\n",
       "      <th>input</th>\n",
       "      <th>instruction</th>\n",
       "    </tr>\n",
       "  </thead>\n",
       "  <tbody>\n",
       "    <tr>\n",
       "      <th>0</th>\n",
       "      <td>NONE</td>\n",
       "      <td>&lt;?xml version='1.0' encoding='UTF-8'?&gt;\\n&lt;PcGts...</td>\n",
       "      <td>Based on the XML data provided, determine if t...</td>\n",
       "    </tr>\n",
       "    <tr>\n",
       "      <th>1</th>\n",
       "      <td>NONE</td>\n",
       "      <td>&lt;?xml version='1.0' encoding='UTF-8'?&gt;\\n&lt;PcGts...</td>\n",
       "      <td>Based on the XML data provided, determine if t...</td>\n",
       "    </tr>\n",
       "    <tr>\n",
       "      <th>2</th>\n",
       "      <td>NONE</td>\n",
       "      <td>&lt;?xml version='1.0' encoding='UTF-8'?&gt;\\n&lt;PcGts...</td>\n",
       "      <td>Based on the XML data provided, determine if t...</td>\n",
       "    </tr>\n",
       "    <tr>\n",
       "      <th>3</th>\n",
       "      <td>NONE</td>\n",
       "      <td>&lt;?xml version='1.0' encoding='UTF-8'?&gt;\\n&lt;PcGts...</td>\n",
       "      <td>Based on the XML data provided, determine if t...</td>\n",
       "    </tr>\n",
       "    <tr>\n",
       "      <th>4</th>\n",
       "      <td>NONE</td>\n",
       "      <td>&lt;?xml version='1.0' encoding='UTF-8'?&gt;\\n&lt;PcGts...</td>\n",
       "      <td>Based on the XML data provided, determine if t...</td>\n",
       "    </tr>\n",
       "  </tbody>\n",
       "</table>\n",
       "</div>"
      ],
      "text/plain": [
       "  output                                              input  \\\n",
       "0   NONE  <?xml version='1.0' encoding='UTF-8'?>\\n<PcGts...   \n",
       "1   NONE  <?xml version='1.0' encoding='UTF-8'?>\\n<PcGts...   \n",
       "2   NONE  <?xml version='1.0' encoding='UTF-8'?>\\n<PcGts...   \n",
       "3   NONE  <?xml version='1.0' encoding='UTF-8'?>\\n<PcGts...   \n",
       "4   NONE  <?xml version='1.0' encoding='UTF-8'?>\\n<PcGts...   \n",
       "\n",
       "                                         instruction  \n",
       "0  Based on the XML data provided, determine if t...  \n",
       "1  Based on the XML data provided, determine if t...  \n",
       "2  Based on the XML data provided, determine if t...  \n",
       "3  Based on the XML data provided, determine if t...  \n",
       "4  Based on the XML data provided, determine if t...  "
      ]
     },
     "execution_count": 18,
     "metadata": {},
     "output_type": "execute_result"
    }
   ],
   "source": [
    "df.head()"
   ]
  },
  {
   "cell_type": "code",
   "execution_count": null,
   "metadata": {},
   "outputs": [
    {
     "data": {
      "text/plain": [
       "0       Based on the XML data provided, determine if t...\n",
       "1       Based on the XML data provided, determine if t...\n",
       "2       Based on the XML data provided, determine if t...\n",
       "3       Based on the XML data provided, determine if t...\n",
       "4       Based on the XML data provided, determine if t...\n",
       "                              ...                        \n",
       "8171    Based on the XML data provided, determine if t...\n",
       "8172    Based on the XML data provided, determine if t...\n",
       "8173    Based on the XML data provided, determine if t...\n",
       "8174    Based on the XML data provided, determine if t...\n",
       "8175    Based on the XML data provided, determine if t...\n",
       "Name: instruction, Length: 8176, dtype: object"
      ]
     },
     "execution_count": 20,
     "metadata": {},
     "output_type": "execute_result"
    }
   ],
   "source": [
    "df[\"instruction\"]"
   ]
  },
  {
   "cell_type": "code",
   "execution_count": 21,
   "metadata": {},
   "outputs": [],
   "source": [
    "df.to_csv(\"/Users/gavinl/Desktop/XML_segmentation/Datasets/Training dataset/dataset.csv\",index=False)"
   ]
  }
 ],
 "metadata": {
  "kernelspec": {
   "display_name": "my_environment",
   "language": "python",
   "name": "python3"
  },
  "language_info": {
   "codemirror_mode": {
    "name": "ipython",
    "version": 3
   },
   "file_extension": ".py",
   "mimetype": "text/x-python",
   "name": "python",
   "nbconvert_exporter": "python",
   "pygments_lexer": "ipython3",
   "version": "3.9.21"
  }
 },
 "nbformat": 4,
 "nbformat_minor": 2
}
