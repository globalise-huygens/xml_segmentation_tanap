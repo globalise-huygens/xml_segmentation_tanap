{
 "cells": [
  {
   "cell_type": "code",
   "execution_count": 4,
   "metadata": {},
   "outputs": [],
   "source": [
    "import pandas as pd\n",
    "import numpy as np\n",
    "import matplotlib"
   ]
  },
  {
   "cell_type": "code",
   "execution_count": 5,
   "metadata": {},
   "outputs": [],
   "source": [
    "df = pd.read_csv(\"/Users/gavinl/Desktop/XML_segmentation/Datasets/Training dataset/dataset.csv\")"
   ]
  },
  {
   "cell_type": "code",
   "execution_count": 6,
   "metadata": {},
   "outputs": [
    {
     "data": {
      "text/html": [
       "<div>\n",
       "<style scoped>\n",
       "    .dataframe tbody tr th:only-of-type {\n",
       "        vertical-align: middle;\n",
       "    }\n",
       "\n",
       "    .dataframe tbody tr th {\n",
       "        vertical-align: top;\n",
       "    }\n",
       "\n",
       "    .dataframe thead th {\n",
       "        text-align: right;\n",
       "    }\n",
       "</style>\n",
       "<table border=\"1\" class=\"dataframe\">\n",
       "  <thead>\n",
       "    <tr style=\"text-align: right;\">\n",
       "      <th></th>\n",
       "      <th>output</th>\n",
       "      <th>input</th>\n",
       "      <th>instruction</th>\n",
       "    </tr>\n",
       "  </thead>\n",
       "  <tbody>\n",
       "    <tr>\n",
       "      <th>0</th>\n",
       "      <td>NONE</td>\n",
       "      <td>&lt;?xml version='1.0' encoding='UTF-8'?&gt;\\n&lt;PcGts...</td>\n",
       "      <td>Based on the XML data provided, determine if t...</td>\n",
       "    </tr>\n",
       "    <tr>\n",
       "      <th>1</th>\n",
       "      <td>NONE</td>\n",
       "      <td>&lt;?xml version='1.0' encoding='UTF-8'?&gt;\\n&lt;PcGts...</td>\n",
       "      <td>Based on the XML data provided, determine if t...</td>\n",
       "    </tr>\n",
       "    <tr>\n",
       "      <th>2</th>\n",
       "      <td>NONE</td>\n",
       "      <td>&lt;?xml version='1.0' encoding='UTF-8'?&gt;\\n&lt;PcGts...</td>\n",
       "      <td>Based on the XML data provided, determine if t...</td>\n",
       "    </tr>\n",
       "    <tr>\n",
       "      <th>3</th>\n",
       "      <td>NONE</td>\n",
       "      <td>&lt;?xml version='1.0' encoding='UTF-8'?&gt;\\n&lt;PcGts...</td>\n",
       "      <td>Based on the XML data provided, determine if t...</td>\n",
       "    </tr>\n",
       "    <tr>\n",
       "      <th>4</th>\n",
       "      <td>NONE</td>\n",
       "      <td>&lt;?xml version='1.0' encoding='UTF-8'?&gt;\\n&lt;PcGts...</td>\n",
       "      <td>Based on the XML data provided, determine if t...</td>\n",
       "    </tr>\n",
       "  </tbody>\n",
       "</table>\n",
       "</div>"
      ],
      "text/plain": [
       "  output                                              input  \\\n",
       "0   NONE  <?xml version='1.0' encoding='UTF-8'?>\\n<PcGts...   \n",
       "1   NONE  <?xml version='1.0' encoding='UTF-8'?>\\n<PcGts...   \n",
       "2   NONE  <?xml version='1.0' encoding='UTF-8'?>\\n<PcGts...   \n",
       "3   NONE  <?xml version='1.0' encoding='UTF-8'?>\\n<PcGts...   \n",
       "4   NONE  <?xml version='1.0' encoding='UTF-8'?>\\n<PcGts...   \n",
       "\n",
       "                                         instruction  \n",
       "0  Based on the XML data provided, determine if t...  \n",
       "1  Based on the XML data provided, determine if t...  \n",
       "2  Based on the XML data provided, determine if t...  \n",
       "3  Based on the XML data provided, determine if t...  \n",
       "4  Based on the XML data provided, determine if t...  "
      ]
     },
     "execution_count": 6,
     "metadata": {},
     "output_type": "execute_result"
    }
   ],
   "source": [
    "df.head()"
   ]
  }
 ],
 "metadata": {
  "kernelspec": {
   "display_name": "my_environment",
   "language": "python",
   "name": "python3"
  },
  "language_info": {
   "codemirror_mode": {
    "name": "ipython",
    "version": 3
   },
   "file_extension": ".py",
   "mimetype": "text/x-python",
   "name": "python",
   "nbconvert_exporter": "python",
   "pygments_lexer": "ipython3",
   "version": "3.9.21"
  }
 },
 "nbformat": 4,
 "nbformat_minor": 2
}
